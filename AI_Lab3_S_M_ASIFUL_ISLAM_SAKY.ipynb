{
 "cells": [
  {
   "cell_type": "code",
   "execution_count": 1,
   "metadata": {},
   "outputs": [
    {
     "name": "stdout",
     "output_type": "stream",
     "text": [
      "[1, 2, 3, 4, 5]\n"
     ]
    }
   ],
   "source": [
    "\n",
    "my_list = [1, 2, 3, 4, 5]\n",
    "print(my_list)"
   ]
  },
  {
   "cell_type": "code",
   "execution_count": 6,
   "metadata": {},
   "outputs": [
    {
     "name": "stdout",
     "output_type": "stream",
     "text": [
      "['Apple', 'Banana', 'Mango']\n"
     ]
    }
   ],
   "source": [
    "\n",
    "fruits = [\"Apple\", \"Banana\", \"Mango\"]\n",
    "print(fruits)"
   ]
  },
  {
   "cell_type": "code",
   "execution_count": 8,
   "metadata": {},
   "outputs": [
    {
     "name": "stdout",
     "output_type": "stream",
     "text": [
      "['apple', 'banana', 'cherry', 'apple', 'cherry']\n"
     ]
    }
   ],
   "source": [
    "fruits = [\"apple\", \"banana\", \"cherry\", \"apple\", \"cherry\"]\n",
    "print(fruits)"
   ]
  },
  {
   "cell_type": "code",
   "execution_count": 10,
   "metadata": {},
   "outputs": [
    {
     "name": "stdout",
     "output_type": "stream",
     "text": [
      "3\n"
     ]
    }
   ],
   "source": [
    "fruits_list = [\"apple\", \"banana\", \"cherry\"]\n",
    "print(len(fruits_list))"
   ]
  },
  {
   "cell_type": "code",
   "execution_count": 11,
   "metadata": {},
   "outputs": [
    {
     "name": "stdout",
     "output_type": "stream",
     "text": [
      "<class 'list'>\n",
      "<class 'list'>\n",
      "<class 'list'>\n"
     ]
    }
   ],
   "source": [
    "list1 = [\"apple\", \"banana\", \"cherry\"]\n",
    "list2 = [1, 5, 7, 9, 3]\n",
    "list3 = [True, False, False]\n",
    "print(type(list1))\n",
    "print(type(list2))\n",
    "print(type(list3))"
   ]
  },
  {
   "attachments": {},
   "cell_type": "markdown",
   "metadata": {},
   "source": [
    "From Python's perspective, lists are defined as objects with the data type 'list'. Even it can contain different types of data."
   ]
  },
  {
   "cell_type": "code",
   "execution_count": 13,
   "metadata": {},
   "outputs": [
    {
     "name": "stdout",
     "output_type": "stream",
     "text": [
      "<class 'list'>\n"
     ]
    }
   ],
   "source": [
    "list1 = [\"abc\", 34, True, 40, \"male\"]\n",
    "print(type(list1))"
   ]
  },
  {
   "attachments": {},
   "cell_type": "markdown",
   "metadata": {},
   "source": [
    "We have connstructed lists using the third Braces. But here now, we will construct list using list() constructor:"
   ]
  },
  {
   "cell_type": "code",
   "execution_count": 14,
   "metadata": {},
   "outputs": [
    {
     "name": "stdout",
     "output_type": "stream",
     "text": [
      "['apple', 'banana', 'cherry']\n"
     ]
    }
   ],
   "source": [
    "thislist = list((\"apple\", \"banana\", \"cherry\"))\n",
    "print(thislist)"
   ]
  },
  {
   "cell_type": "code",
   "execution_count": 20,
   "metadata": {},
   "outputs": [
    {
     "name": "stdout",
     "output_type": "stream",
     "text": [
      "Suborna\n"
     ]
    }
   ],
   "source": [
    "students = [\"Saky\", \"Ahmed\", \"Sherif\", \"Suborna\", \"Arifa\"]\n",
    "print(students[3])\n"
   ]
  },
  {
   "cell_type": "code",
   "execution_count": 21,
   "metadata": {},
   "outputs": [
    {
     "name": "stdout",
     "output_type": "stream",
     "text": [
      "Ahmed\n",
      "Arifa\n"
     ]
    }
   ],
   "source": [
    "students = [\"Saky\", \"Ahmed\", \"Sherif\", \"Suborna\", \"Arifa\"]\n",
    "print(students[1])\n",
    "print(students[4])"
   ]
  },
  {
   "cell_type": "code",
   "execution_count": 23,
   "metadata": {},
   "outputs": [
    {
     "name": "stdout",
     "output_type": "stream",
     "text": [
      "Suborna\n"
     ]
    }
   ],
   "source": [
    "students = [\"Saky\", \"Ahmed\", \"Sherif\", \"Suborna\", \"Arifa\", \"Fariha\"]\n",
    "print(students[-3])"
   ]
  },
  {
   "cell_type": "code",
   "execution_count": 24,
   "metadata": {},
   "outputs": [
    {
     "name": "stdout",
     "output_type": "stream",
     "text": [
      "['Ahmed', 'Sherif', 'Suborna']\n"
     ]
    }
   ],
   "source": [
    "students = [\"Saky\", \"Ahmed\", \"Sherif\", \"Suborna\", \"Arifa\", \"Fariha\"]\n",
    "print(students[1:4])"
   ]
  },
  {
   "cell_type": "code",
   "execution_count": 25,
   "metadata": {},
   "outputs": [
    {
     "name": "stdout",
     "output_type": "stream",
     "text": [
      "['Saky', 'Ahmed', 'Sherif']\n"
     ]
    }
   ],
   "source": [
    "students = [\"Saky\", \"Ahmed\", \"Sherif\", \"Suborna\", \"Arifa\", \"Fariha\"]\n",
    "print(students[:3])"
   ]
  },
  {
   "cell_type": "code",
   "execution_count": 26,
   "metadata": {},
   "outputs": [
    {
     "name": "stdout",
     "output_type": "stream",
     "text": [
      "['Sherif', 'Suborna', 'Arifa', 'Fariha']\n"
     ]
    }
   ],
   "source": [
    "students = [\"Saky\", \"Ahmed\", \"Sherif\", \"Suborna\", \"Arifa\", \"Fariha\"]\n",
    "print(students[2:])"
   ]
  },
  {
   "cell_type": "code",
   "execution_count": 28,
   "metadata": {},
   "outputs": [
    {
     "name": "stdout",
     "output_type": "stream",
     "text": [
      "['Ahmed', 'Sherif']\n"
     ]
    }
   ],
   "source": [
    "students = [\"Saky\", \"Ahmed\", \"Sherif\", \"Suborna\", \"Arifa\", \"Fariha\"]\n",
    "print(students[-5:-3])"
   ]
  },
  {
   "attachments": {},
   "cell_type": "markdown",
   "metadata": {},
   "source": [
    "In this case of Negetively ranging the first number of range should be bigger magnitude than the second one. Here, 5>3"
   ]
  },
  {
   "cell_type": "code",
   "execution_count": 30,
   "metadata": {},
   "outputs": [
    {
     "name": "stdout",
     "output_type": "stream",
     "text": [
      "Yes, Suborna is present in the list!\n"
     ]
    }
   ],
   "source": [
    "students = [\"Saky\", \"Ahmed\", \"Sherif\", \"Suborna\", \"Arifa\", \"Fariha\"]\n",
    "if \"Suborna\" in students:\n",
    "  print(\"Yes, Suborna is present in the list!\")"
   ]
  },
  {
   "cell_type": "code",
   "execution_count": 31,
   "metadata": {},
   "outputs": [
    {
     "name": "stdout",
     "output_type": "stream",
     "text": [
      "['Saky', 'Ahmed', 'Sumona', 'Suborna', 'Arifa', 'Fariha']\n"
     ]
    }
   ],
   "source": [
    "students = [\"Saky\", \"Ahmed\", \"Sherif\", \"Suborna\", \"Arifa\", \"Fariha\"]\n",
    "students[2] = \"Sumona\"\n",
    "print(students)"
   ]
  },
  {
   "cell_type": "code",
   "execution_count": 32,
   "metadata": {},
   "outputs": [
    {
     "name": "stdout",
     "output_type": "stream",
     "text": [
      "['Saky', 'Ahmed', 'Sumona', 'Surovi', 'Homira', 'Arifa', 'Fariha']\n"
     ]
    }
   ],
   "source": [
    "students = [\"Saky\", \"Ahmed\", \"Sherif\", \"Suborna\", \"Arifa\", \"Fariha\"]\n",
    "students[2:4] = [\"Sumona\", \"Surovi\", \"Homira\"]\n",
    "print(students)"
   ]
  },
  {
   "cell_type": "code",
   "execution_count": 33,
   "metadata": {},
   "outputs": [
    {
     "name": "stdout",
     "output_type": "stream",
     "text": [
      "['Saky', 'Ahmed', 'Homira', 'Arifa', 'Fariha']\n"
     ]
    }
   ],
   "source": [
    "students = [\"Saky\", \"Ahmed\", \"Sherif\", \"Suborna\", \"Arifa\", \"Fariha\"]\n",
    "students[2:4] = [\"Homira\"]\n",
    "print(students)"
   ]
  },
  {
   "cell_type": "code",
   "execution_count": 34,
   "metadata": {},
   "outputs": [
    {
     "name": "stdout",
     "output_type": "stream",
     "text": [
      "['Saky', 'Ahmed', 'Jannat', 'Sherif', 'Suborna', 'Arifa', 'Fariha']\n"
     ]
    }
   ],
   "source": [
    "students = [\"Saky\", \"Ahmed\", \"Sherif\", \"Suborna\", \"Arifa\", \"Fariha\"]\n",
    "students.insert(2,\"Jannat\")\n",
    "print(students)"
   ]
  },
  {
   "cell_type": "code",
   "execution_count": 36,
   "metadata": {},
   "outputs": [
    {
     "name": "stdout",
     "output_type": "stream",
     "text": [
      "['Saky', 'Ahmed', 'Sherif', 'Suborna', 'Arifa', 'Fariha', 'Jannat']\n"
     ]
    }
   ],
   "source": [
    "students = [\"Saky\", \"Ahmed\", \"Sherif\", \"Suborna\", \"Arifa\", \"Fariha\"]\n",
    "students.append(\"Jannat\")       #To insert an item at the last.\n",
    "print(students)"
   ]
  },
  {
   "cell_type": "code",
   "execution_count": 37,
   "metadata": {},
   "outputs": [
    {
     "name": "stdout",
     "output_type": "stream",
     "text": [
      "['Saky', 'Ahmed', 'Sherif', 'Sauda', 'Suborna', 'Arifa', 'Fariha']\n"
     ]
    }
   ],
   "source": [
    "students = [\"Saky\", \"Ahmed\", \"Sherif\", \"Suborna\", \"Arifa\", \"Fariha\"]\n",
    "students.insert(3,\"Sauda\")\n",
    "print(students)"
   ]
  },
  {
   "cell_type": "code",
   "execution_count": 41,
   "metadata": {},
   "outputs": [
    {
     "name": "stdout",
     "output_type": "stream",
     "text": [
      "['Saky', 'Ahmad', 'Sherif', 'Robin', 'Mahmud', 'Homira', 'Jobira', 'Jannat', 'Sauda', 'Fariha', 'Suborna']\n"
     ]
    }
   ],
   "source": [
    "maleStudents = [\"Saky\", \"Ahmad\", \"Sherif\", \"Robin\", \"Mahmud\"] \n",
    "fStudents = [\"Homira\", \"Jobira\", \"Jannat\", \"Sauda\", \"Fariha\", \"Suborna\"]\n",
    "maleStudents.extend(fStudents)\n",
    "print(maleStudents)"
   ]
  },
  {
   "cell_type": "code",
   "execution_count": 43,
   "metadata": {},
   "outputs": [
    {
     "name": "stdout",
     "output_type": "stream",
     "text": [
      "['Saky', 'Sherif', 'Suborna', 'Arifa', 'Fariha']\n"
     ]
    }
   ],
   "source": [
    "students = [\"Saky\", \"Ahmed\", \"Sherif\", \"Suborna\", \"Arifa\", \"Fariha\"]\n",
    "students.remove(\"Ahmed\")\n",
    "print(students)"
   ]
  },
  {
   "cell_type": "code",
   "execution_count": 44,
   "metadata": {},
   "outputs": [
    {
     "name": "stdout",
     "output_type": "stream",
     "text": [
      "['Saky', 'Ahmed', 'Suborna', 'Arifa', 'Fariha']\n"
     ]
    }
   ],
   "source": [
    "students = [\"Saky\", \"Ahmed\", \"Sherif\", \"Suborna\", \"Arifa\", \"Fariha\"]\n",
    "students.pop(2)\n",
    "print(students)"
   ]
  },
  {
   "cell_type": "code",
   "execution_count": 45,
   "metadata": {},
   "outputs": [
    {
     "name": "stdout",
     "output_type": "stream",
     "text": [
      "['Saky', 'Ahmed', 'Sherif', 'Suborna', 'Arifa']\n"
     ]
    }
   ],
   "source": [
    "students = [\"Saky\", \"Ahmed\", \"Sherif\", \"Suborna\", \"Arifa\", \"Fariha\"]\n",
    "students.pop()\n",
    "print(students)"
   ]
  },
  {
   "cell_type": "code",
   "execution_count": 51,
   "metadata": {},
   "outputs": [
    {
     "name": "stdout",
     "output_type": "stream",
     "text": [
      "['Ahmed', 'Sherif', 'Suborna', 'Arifa', 'Fariha']\n"
     ]
    }
   ],
   "source": [
    "students = [\"Saky\", \"Ahmed\", \"Sherif\", \"Suborna\", \"Arifa\", \"Fariha\"]\n",
    "del students[0]\n",
    "print(students)"
   ]
  },
  {
   "cell_type": "code",
   "execution_count": 58,
   "metadata": {},
   "outputs": [
    {
     "name": "stdout",
     "output_type": "stream",
     "text": [
      "['Saky', 'Ahmed', 'Sherif', 'Suborna', 'Fariha']\n"
     ]
    }
   ],
   "source": [
    "students = [\"Saky\", \"Ahmed\", \"Sherif\", \"Suborna\", \"Arifa\", \"Fariha\"]\n",
    "del students[4]\n",
    "print(students)"
   ]
  },
  {
   "cell_type": "code",
   "execution_count": 61,
   "metadata": {},
   "outputs": [
    {
     "name": "stdout",
     "output_type": "stream",
     "text": [
      "[]\n"
     ]
    }
   ],
   "source": [
    "students = [\"Saky\", \"Ahmed\", \"Sherif\", \"Suborna\", \"Arifa\", \"Fariha\"]\n",
    "students.clear()\n",
    "print(students)"
   ]
  },
  {
   "cell_type": "code",
   "execution_count": 63,
   "metadata": {},
   "outputs": [
    {
     "name": "stdout",
     "output_type": "stream",
     "text": [
      "['Ahmed', 'Arifa', 'Fariha', 'Karim', 'Saky', 'Sherif']\n"
     ]
    }
   ],
   "source": [
    "students = [\"Saky\", \"Ahmed\", \"Sherif\", \"Karim\", \"Arifa\", \"Fariha\"]\n",
    "students.sort()\n",
    "print(students)"
   ]
  },
  {
   "cell_type": "code",
   "execution_count": 65,
   "metadata": {},
   "outputs": [
    {
     "name": "stdout",
     "output_type": "stream",
     "text": [
      "[0.5, 5, 10, 50, 70.5, 80, 90, 100]\n"
     ]
    }
   ],
   "source": [
    "roll = [10, 50, 5, 100, 90, 0.5, 80, 70.5]\n",
    "roll.sort()\n",
    "print(roll)"
   ]
  },
  {
   "cell_type": "code",
   "execution_count": 66,
   "metadata": {},
   "outputs": [
    {
     "name": "stdout",
     "output_type": "stream",
     "text": [
      "['Sherif', 'Saky', 'Karim', 'Fariha', 'Arifa', 'Ahmed']\n"
     ]
    }
   ],
   "source": [
    "students = [\"Saky\", \"Ahmed\", \"Sherif\", \"Karim\", \"Arifa\", \"Fariha\"]\n",
    "students.sort(reverse=True)\n",
    "print(students)"
   ]
  },
  {
   "cell_type": "code",
   "execution_count": 72,
   "metadata": {},
   "outputs": [
    {
     "name": "stdout",
     "output_type": "stream",
     "text": [
      "[100, 90, 80, 70.5, 50, 10, 5, 0.5]\n"
     ]
    }
   ],
   "source": [
    "roll = [10, 50, 5, 100, 90, 0.5, 80, 70.5]\n",
    "roll.sort(reverse=True)\n",
    "print(roll)"
   ]
  },
  {
   "cell_type": "code",
   "execution_count": 69,
   "metadata": {},
   "outputs": [
    {
     "name": "stdout",
     "output_type": "stream",
     "text": [
      "['Fariha', 'Arifa', 'Karim', 'Sherif', 'Ahmed', 'Saky']\n"
     ]
    }
   ],
   "source": [
    "students = [\"Saky\", \"Ahmed\", \"Sherif\", \"Karim\", \"Arifa\", \"Fariha\"]\n",
    "students.reverse()\n",
    "print(students)"
   ]
  },
  {
   "attachments": {},
   "cell_type": "markdown",
   "metadata": {},
   "source": [
    "Reverse and Sorting is actually different. The reverse() method reverses the current sorting order of the elements."
   ]
  },
  {
   "cell_type": "code",
   "execution_count": 70,
   "metadata": {},
   "outputs": [
    {
     "name": "stdout",
     "output_type": "stream",
     "text": [
      "[70.5, 80, 0.5, 90, 100, 5, 50, 10]\n"
     ]
    }
   ],
   "source": [
    "roll = [10, 50, 5, 100, 90, 0.5, 80, 70.5]\n",
    "roll.reverse()\n",
    "print(roll)"
   ]
  },
  {
   "cell_type": "code",
   "execution_count": 83,
   "metadata": {},
   "outputs": [
    {
     "name": "stdout",
     "output_type": "stream",
     "text": [
      "['Saky', 'Ahmed', 'Sherif', 'Karim', 'Arifa', 'Fariha']\n",
      "['Saky', 'Ahmed', 'Sherif', 'Karim', 'Arifa', 'Fariha']\n"
     ]
    }
   ],
   "source": [
    "students = [\"Saky\", \"Ahmed\", \"Sherif\", \"Karim\", \"Arifa\", \"Fariha\"]\n",
    "students.copy()\n",
    "mylist = list(students)\n",
    "print(mylist)\n",
    "print(students)\n"
   ]
  },
  {
   "cell_type": "code",
   "execution_count": 87,
   "metadata": {},
   "outputs": [
    {
     "name": "stdout",
     "output_type": "stream",
     "text": [
      "['Asif', 'Babu', 'Siuam', 19, 21, 23, 'M', 'M', 'M']\n"
     ]
    }
   ],
   "source": [
    "name = [\"Asif\", \"Babu\", \"Siuam\"]\n",
    "age = [19, 21, 23]\n",
    "gen = [\"M\"] * 3\n",
    "bio = name + age + gen\n",
    "print(bio)"
   ]
  },
  {
   "cell_type": "code",
   "execution_count": null,
   "metadata": {},
   "outputs": [],
   "source": []
  }
 ],
 "metadata": {
  "kernelspec": {
   "display_name": "Python 3",
   "language": "python",
   "name": "python3"
  },
  "language_info": {
   "codemirror_mode": {
    "name": "ipython",
    "version": 3
   },
   "file_extension": ".py",
   "mimetype": "text/x-python",
   "name": "python",
   "nbconvert_exporter": "python",
   "pygments_lexer": "ipython3",
   "version": "3.11.2"
  },
  "orig_nbformat": 4
 },
 "nbformat": 4,
 "nbformat_minor": 2
}
