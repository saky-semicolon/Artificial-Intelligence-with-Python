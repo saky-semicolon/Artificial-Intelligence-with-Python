{
 "cells": [
  {
   "cell_type": "code",
   "execution_count": 1,
   "metadata": {},
   "outputs": [
    {
     "name": "stdout",
     "output_type": "stream",
     "text": [
      "Hello there!\n"
     ]
    }
   ],
   "source": [
    "a=\"Hello there!\"\n",
    "print(a)"
   ]
  },
  {
   "cell_type": "code",
   "execution_count": 2,
   "metadata": {},
   "outputs": [
    {
     "name": "stdout",
     "output_type": "stream",
     "text": [
      "\n",
      "    I am S M Asiful Islam Saky.\n",
      "    I am currently living in Alor Setar, Kedah, Malaysia.\n",
      "    I am from Bangladesh.\n",
      "    \n",
      "\n",
      "    I am S M Asiful Islam Saky.\n",
      "    I am currently living in Alor Setar, Kedah, Malaysia.\n",
      "    I am from Bangladesh.\n",
      "    \n"
     ]
    }
   ],
   "source": [
    "a=  \"\"\"\n",
    "    I am S M Asiful Islam Saky.\n",
    "    I am currently living in Alor Setar, Kedah, Malaysia.\n",
    "    I am from Bangladesh.\n",
    "    \"\"\"\n",
    "print(a)\n",
    "\n",
    "a=  '''\n",
    "    I am S M Asiful Islam Saky.\n",
    "    I am currently living in Alor Setar, Kedah, Malaysia.\n",
    "    I am from Bangladesh.\n",
    "    '''\n",
    "   \n",
    "    \n",
    "print(a)"
   ]
  },
  {
   "cell_type": "code",
   "execution_count": 3,
   "metadata": {},
   "outputs": [
    {
     "name": "stdout",
     "output_type": "stream",
     "text": [
      "M\n",
      "S\n",
      "f\n",
      "s\n",
      "l\n"
     ]
    }
   ],
   "source": [
    "name = \"S M Asiful Islam Saky\"\n",
    "\n",
    "print(name[2]) \n",
    "print(name[0])  \n",
    "print(name[7])  \n",
    "print(name[5])  \n",
    "print(name[9])  "
   ]
  },
  {
   "cell_type": "code",
   "execution_count": 4,
   "metadata": {},
   "outputs": [
    {
     "name": "stdout",
     "output_type": "stream",
     "text": [
      "27\n"
     ]
    }
   ],
   "source": [
    "address = \"Alor Setar, Kedah, Malaysia\"\n",
    "\n",
    "print(len(address)) "
   ]
  },
  {
   "cell_type": "code",
   "execution_count": 7,
   "metadata": {},
   "outputs": [
    {
     "name": "stdout",
     "output_type": "stream",
     "text": [
      "True\n",
      "Yes, 'World' is present in the string1\n"
     ]
    }
   ],
   "source": [
    "string1 = \"Hello World\"\n",
    "print(\"Hello\" in string1)\n",
    "\n",
    "if \"World\" in string1:\n",
    "  print(\"Yes, 'World' is present in the string1\") "
   ]
  },
  {
   "cell_type": "code",
   "execution_count": 6,
   "metadata": {},
   "outputs": [
    {
     "name": "stdout",
     "output_type": "stream",
     "text": [
      "True\n",
      "No, 'extensive' is not present in the lan.\n"
     ]
    }
   ],
   "source": [
    "lan = \"Python is a high level language\"\n",
    "print(\"expensive\" not in lan)\n",
    "\n",
    "if \"expensive\" not in lan:\n",
    "  print(\"No, 'extensive' is not present in the lan.\")"
   ]
  },
  {
   "cell_type": "code",
   "execution_count": 2,
   "metadata": {},
   "outputs": [
    {
     "name": "stdout",
     "output_type": "stream",
     "text": [
      "llo t\n"
     ]
    }
   ],
   "source": [
    "b = \"Hello there!\"\n",
    "print(b[2:7])"
   ]
  },
  {
   "cell_type": "code",
   "execution_count": 3,
   "metadata": {},
   "outputs": [
    {
     "name": "stdout",
     "output_type": "stream",
     "text": [
      "Hell\n"
     ]
    }
   ],
   "source": [
    "b = \"Hello there!\"\n",
    "print(b[:4])"
   ]
  },
  {
   "cell_type": "code",
   "execution_count": 5,
   "metadata": {},
   "outputs": [
    {
     "name": "stdout",
     "output_type": "stream",
     "text": [
      "there!\n"
     ]
    }
   ],
   "source": [
    "b = \"Hello there!\"\n",
    "print(b[6:])"
   ]
  },
  {
   "cell_type": "code",
   "execution_count": 6,
   "metadata": {},
   "outputs": [
    {
     "name": "stdout",
     "output_type": "stream",
     "text": [
      "the\n"
     ]
    }
   ],
   "source": [
    "b = \"Hello there\"\n",
    "print(b[-5:-2])"
   ]
  },
  {
   "cell_type": "code",
   "execution_count": 7,
   "metadata": {},
   "outputs": [
    {
     "name": "stdout",
     "output_type": "stream",
     "text": [
      "S M ASIFUL ISLAM SAKY\n"
     ]
    }
   ],
   "source": [
    "name = \"s m asiful islam saky\"\n",
    "print(name.upper())"
   ]
  },
  {
   "cell_type": "code",
   "execution_count": 8,
   "metadata": {},
   "outputs": [
    {
     "name": "stdout",
     "output_type": "stream",
     "text": [
      "s m asiful islam saky\n"
     ]
    }
   ],
   "source": [
    "name = \"S M ASIFUL ISLAM SAKY\"\n",
    "print(name.lower())"
   ]
  },
  {
   "cell_type": "code",
   "execution_count": 9,
   "metadata": {},
   "outputs": [
    {
     "name": "stdout",
     "output_type": "stream",
     "text": [
      "Hello, World!\n"
     ]
    }
   ],
   "source": [
    "a = \" Hello there! \"\n",
    "print(a.strip()) "
   ]
  },
  {
   "cell_type": "code",
   "execution_count": 10,
   "metadata": {},
   "outputs": [
    {
     "name": "stdout",
     "output_type": "stream",
     "text": [
      "This is a sython code\n"
     ]
    }
   ],
   "source": [
    "a = \"This is a python code\"\n",
    "print(a.replace(\"p\", \"s\"))"
   ]
  },
  {
   "cell_type": "code",
   "execution_count": 11,
   "metadata": {},
   "outputs": [
    {
     "name": "stdout",
     "output_type": "stream",
     "text": [
      "S M Asiful Islam Saky\n"
     ]
    }
   ],
   "source": [
    "firstName = \"S M Asiful Islam\"\n",
    "lastName = \"Saky\"\n",
    "\n",
    "fullName = firstName + \" \" + lastName\n",
    "print(fullName)  "
   ]
  },
  {
   "cell_type": "code",
   "execution_count": 12,
   "metadata": {},
   "outputs": [
    {
     "name": "stdout",
     "output_type": "stream",
     "text": [
      "Welcome, Saky!\n"
     ]
    }
   ],
   "source": [
    "name = 'Saky'\n",
    "\n",
    "welcome_message = 'Welcome, {}!'.format(name)\n",
    "\n",
    "print(welcome_message)"
   ]
  },
  {
   "cell_type": "code",
   "execution_count": null,
   "metadata": {},
   "outputs": [],
   "source": [
    "age = 19\n",
    "txt = \"My name is Saky, and I am {}\"\n",
    "print(txt.format(age))"
   ]
  },
  {
   "cell_type": "code",
   "execution_count": 13,
   "metadata": {},
   "outputs": [
    {
     "name": "stdout",
     "output_type": "stream",
     "text": [
      "I want to pay 49.95 dollars for 3 pieces of item 567.\n"
     ]
    }
   ],
   "source": [
    "quantity = 3\n",
    "itemno = 567\n",
    "price = 49.95\n",
    "myorder = \"I want to pay {2} dollars for {0} pieces of item {1}.\"\n",
    "print(myorder.format(quantity, itemno, price))"
   ]
  },
  {
   "cell_type": "code",
   "execution_count": 14,
   "metadata": {},
   "outputs": [
    {
     "name": "stdout",
     "output_type": "stream",
     "text": [
      "We are the so-called \"Vikings\" from the north.\n"
     ]
    }
   ],
   "source": [
    "txt = \"We are the so-called \\\"Vikings\\\" from the north.\"\n",
    "print(txt)"
   ]
  },
  {
   "cell_type": "code",
   "execution_count": 15,
   "metadata": {},
   "outputs": [
    {
     "name": "stdout",
     "output_type": "stream",
     "text": [
      "['HTML', 'CSS', 'JAVASCRIPT', 'C', 'PYTHON']\n"
     ]
    }
   ],
   "source": [
    "languages = [\"HTML\", \"CSS\", \"JAVASCRIPT\", \"C\", \"PYTHON\"]\n",
    "print(languages)"
   ]
  },
  {
   "cell_type": "code",
   "execution_count": 16,
   "metadata": {},
   "outputs": [
    {
     "name": "stdout",
     "output_type": "stream",
     "text": [
      "5\n"
     ]
    }
   ],
   "source": [
    "languages = [\"HTML\", \"CSS\", \"JAVASCRIPT\", \"C\", \"PYTHON\"]\n",
    "print(len(languages))"
   ]
  }
 ],
 "metadata": {
  "kernelspec": {
   "display_name": "Python 3",
   "language": "python",
   "name": "python3"
  },
  "language_info": {
   "codemirror_mode": {
    "name": "ipython",
    "version": 3
   },
   "file_extension": ".py",
   "mimetype": "text/x-python",
   "name": "python",
   "nbconvert_exporter": "python",
   "pygments_lexer": "ipython3",
   "version": "3.11.2"
  },
  "orig_nbformat": 4
 },
 "nbformat": 4,
 "nbformat_minor": 2
}
